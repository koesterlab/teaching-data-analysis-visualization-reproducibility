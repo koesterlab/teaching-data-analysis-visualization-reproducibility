{
 "cells": [
  {
   "cell_type": "code",
   "execution_count": 1,
   "metadata": {},
   "outputs": [],
   "source": [
    "# variables\n",
    "some_value = 42.0\n",
    "\n",
    "# calling functions\n",
    "print(some_value)\n",
    "\n",
    "# if-else\n",
    "if some_value > 0.0:\n",
    "    print(\"non zero\")\n",
    "else:\n",
    "    print(\"zero\")\n",
    "\n",
    "# loops\n",
    "for i in range(5):\n",
    "    print(i)\n",
    "\n",
    "# defining functions\n",
    "def some_function(some_value):\n",
    "    if some_value > 0.0:\n",
    "        print(\"non zero\")\n",
    "    else:\n",
    "        print(\"zero\")\n",
    "\n",
    "# refactoring: rename stuff, modularize into functions\n"
   ]
  }
 ],
 "metadata": {
  "kernelspec": {
   "display_name": "Python 3",
   "language": "python",
   "name": "python3"
  },
  "language_info": {
   "codemirror_mode": {
    "name": "ipython",
    "version": 3
   },
   "file_extension": ".py",
   "mimetype": "text/x-python",
   "name": "python",
   "nbconvert_exporter": "python",
   "pygments_lexer": "ipython3",
   "version": "3.12.0"
  }
 },
 "nbformat": 4,
 "nbformat_minor": 2
}
